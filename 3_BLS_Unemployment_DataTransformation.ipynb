{
 "cells": [
  {
   "cell_type": "code",
   "execution_count": 1,
   "metadata": {},
   "outputs": [],
   "source": [
    "# Import Dependencies\n",
    "import pandas as pd\n",
    "from pathlib import Path"
   ]
  },
  {
   "cell_type": "code",
   "execution_count": 2,
   "metadata": {},
   "outputs": [],
   "source": [
    "def bls_employment(bls_employment_xlsx):\n",
    "    # Read source data file to DataFrame\n",
    "    # Skip the first 4 rows, preserve all column data types as text\n",
    "    source_df = pd.read_excel(bls_employment_xlsx, header=4, dtype=str)\n",
    "\n",
    "    # Drop unnecessary columns\n",
    "    bls_employment_df = source_df.drop(columns=[\"Code\", \"County Name/State Abbreviation\", \"Unnamed: 5\", \"Unemployed\", \"(%)\"])\n",
    "\n",
    "    # Drop NaN rows\n",
    "    bls_employment_df.dropna(inplace=True)\n",
    "\n",
    "    # Keep only the main US states\n",
    "    bls_employment_df = bls_employment_df[(bls_employment_df[\"Code.1\"] <= \"56\")]\n",
    "\n",
    "    # Create county_fips column\n",
    "    bls_employment_df[\"county_fips\"] = pd.to_numeric(bls_employment_df[\"Code.1\"] + bls_employment_df[\"Code.2\"])\n",
    "\n",
    "    # Drop unnecessary columns\n",
    "    bls_employment_df.drop(columns=[\"Code.1\", \"Code.2\"], inplace=True)\n",
    "\n",
    "    # Rename columns\n",
    "    bls_employment_df.rename(columns={\"Year\": \"year\",\n",
    "                                    \"Force\": \"bls_labor_force\",\n",
    "                                    \"Employed\": \"bls_employed\"}, inplace=True)\n",
    "\n",
    "    # Change column order\n",
    "    bls_employment_df = bls_employment_df[[\"county_fips\", \"year\", \"bls_labor_force\", \"bls_employed\"]]\n",
    "\n",
    "    return bls_employment_df"
   ]
  },
  {
   "cell_type": "code",
   "execution_count": 3,
   "metadata": {},
   "outputs": [
    {
     "data": {
      "text/html": [
       "<div>\n",
       "<style scoped>\n",
       "    .dataframe tbody tr th:only-of-type {\n",
       "        vertical-align: middle;\n",
       "    }\n",
       "\n",
       "    .dataframe tbody tr th {\n",
       "        vertical-align: top;\n",
       "    }\n",
       "\n",
       "    .dataframe thead th {\n",
       "        text-align: right;\n",
       "    }\n",
       "</style>\n",
       "<table border=\"1\" class=\"dataframe\">\n",
       "  <thead>\n",
       "    <tr style=\"text-align: right;\">\n",
       "      <th></th>\n",
       "      <th>county_fips</th>\n",
       "      <th>year</th>\n",
       "      <th>bls_labor_force</th>\n",
       "      <th>bls_employed</th>\n",
       "    </tr>\n",
       "  </thead>\n",
       "  <tbody>\n",
       "    <tr>\n",
       "      <th>0</th>\n",
       "      <td>1001</td>\n",
       "      <td>2020</td>\n",
       "      <td>26350</td>\n",
       "      <td>24955</td>\n",
       "    </tr>\n",
       "    <tr>\n",
       "      <th>1</th>\n",
       "      <td>1003</td>\n",
       "      <td>2020</td>\n",
       "      <td>98695</td>\n",
       "      <td>92639</td>\n",
       "    </tr>\n",
       "    <tr>\n",
       "      <th>2</th>\n",
       "      <td>1005</td>\n",
       "      <td>2020</td>\n",
       "      <td>8659</td>\n",
       "      <td>7995</td>\n",
       "    </tr>\n",
       "    <tr>\n",
       "      <th>3</th>\n",
       "      <td>1007</td>\n",
       "      <td>2020</td>\n",
       "      <td>8692</td>\n",
       "      <td>8063</td>\n",
       "    </tr>\n",
       "    <tr>\n",
       "      <th>4</th>\n",
       "      <td>1009</td>\n",
       "      <td>2020</td>\n",
       "      <td>25065</td>\n",
       "      <td>23944</td>\n",
       "    </tr>\n",
       "  </tbody>\n",
       "</table>\n",
       "</div>"
      ],
      "text/plain": [
       "   county_fips  year bls_labor_force bls_employed\n",
       "0         1001  2020           26350        24955\n",
       "1         1003  2020           98695        92639\n",
       "2         1005  2020            8659         7995\n",
       "3         1007  2020            8692         8063\n",
       "4         1009  2020           25065        23944"
      ]
     },
     "execution_count": 3,
     "metadata": {},
     "output_type": "execute_result"
    }
   ],
   "source": [
    "# Define base path\n",
    "basePath = \"./source/BLS/employment/\"\n",
    "\n",
    "# Define a list of files to process\n",
    "filesToProcess = [\"laucnty20.xlsx\", \"laucnty21.xlsx\", \"laucnty22.xlsx\"]\n",
    "\n",
    "# Initialize the empty DataFrame\n",
    "bls_employment_df = pd.DataFrame({})\n",
    "\n",
    "# Loop through all files, process them and accumulate results in the new DataFrame\n",
    "for file in filesToProcess:\n",
    "    # Define a full path to the file\n",
    "    bls_employment_xlsx = Path(f\"{basePath}{file}\")\n",
    "\n",
    "    # Process the file\n",
    "    df = bls_employment(bls_employment_xlsx)\n",
    "\n",
    "    # Add processed data to the DataFrame\n",
    "    bls_employment_df = pd.concat([bls_employment_df, df], ignore_index=True)\n",
    "\n",
    "bls_employment_df.head()"
   ]
  },
  {
   "cell_type": "code",
   "execution_count": 4,
   "metadata": {},
   "outputs": [],
   "source": [
    "# Save to file\n",
    "bls_employment_df.to_csv(Path(\"./source/bls_employment.csv\"), index=False, header=True)"
   ]
  }
 ],
 "metadata": {
  "kernelspec": {
   "display_name": "Python 3 (ipykernel)",
   "language": "python",
   "name": "python3"
  },
  "language_info": {
   "codemirror_mode": {
    "name": "ipython",
    "version": 3
   },
   "file_extension": ".py",
   "mimetype": "text/x-python",
   "name": "python",
   "nbconvert_exporter": "python",
   "pygments_lexer": "ipython3",
   "version": "3.11.4"
  },
  "nteract": {
   "version": "0.11.9"
  }
 },
 "nbformat": 4,
 "nbformat_minor": 2
}
